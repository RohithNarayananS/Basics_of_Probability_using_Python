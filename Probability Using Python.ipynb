{
 "cells": [
  {
   "cell_type": "code",
   "execution_count": 1,
   "id": "6a228e8d",
   "metadata": {},
   "outputs": [
    {
     "name": "stdout",
     "output_type": "stream",
     "text": [
      "Probability of getting jack from a deck of cards is 8.0%\n"
     ]
    }
   ],
   "source": [
    "#Probability of getting jack from a deck of cards\n",
    "cards=52 #sample space\n",
    "jacks=4  #no. of occurence of event\n",
    "jack_prob=jacks/cards #formula\n",
    "print(\"Probability of getting jack from a deck of cards is {}%\".format(round(jack_prob, 2)*100))"
   ]
  },
  {
   "cell_type": "code",
   "execution_count": 4,
   "id": "0dcdc15c",
   "metadata": {},
   "outputs": [
    {
     "data": {
      "text/plain": [
       "7.7"
      ]
     },
     "execution_count": 4,
     "metadata": {},
     "output_type": "execute_result"
    }
   ],
   "source": [
    "#Probability of getting ace from a deck of cards on the first draw\n",
    "cards=52\n",
    "def event_prob(event_outcomes,sample_space):\n",
    "    prob =(event_outcomes/sample_space)*100\n",
    "    return round(prob, 1)\n",
    "#getting ace of the first draw \n",
    "aces=4\n",
    "event_prob(aces,cards)"
   ]
  },
  {
   "cell_type": "code",
   "execution_count": 6,
   "id": "f1e7e30b",
   "metadata": {},
   "outputs": [
    {
     "data": {
      "text/plain": [
       "7.8"
      ]
     },
     "execution_count": 6,
     "metadata": {},
     "output_type": "execute_result"
    }
   ],
   "source": [
    "#Probability of getting ace from a deck of cards on the second draw after getting king on first draw\n",
    "aces=4\n",
    "cards_remain=51\n",
    "def event_prob(event_outcomes,sample_space):\n",
    "    prob =(event_outcomes/sample_space)*100\n",
    "    return round(prob, 1)\n",
    "event_prob(aces,cards_remain)"
   ]
  },
  {
   "cell_type": "code",
   "execution_count": 7,
   "id": "b26088e7",
   "metadata": {},
   "outputs": [
    {
     "data": {
      "text/plain": [
       "5.9"
      ]
     },
     "execution_count": 7,
     "metadata": {},
     "output_type": "execute_result"
    }
   ],
   "source": [
    "#Probability of getting ace from a deck of cards on the second draw after getting ace on first draw\n",
    "aces_remain=3\n",
    "cards_remain=51\n",
    "def event_prob(event_outcomes,sample_space):\n",
    "    prob =(event_outcomes/sample_space)*100\n",
    "    return round(prob, 1)\n",
    "event_prob(aces_remain,cards_remain)"
   ]
  },
  {
   "cell_type": "code",
   "execution_count": null,
   "id": "55c370b8",
   "metadata": {},
   "outputs": [],
   "source": [
    "#Determine the probability"
   ]
  }
 ],
 "metadata": {
  "kernelspec": {
   "display_name": "Python 3",
   "language": "python",
   "name": "python3"
  },
  "language_info": {
   "codemirror_mode": {
    "name": "ipython",
    "version": 3
   },
   "file_extension": ".py",
   "mimetype": "text/x-python",
   "name": "python",
   "nbconvert_exporter": "python",
   "pygments_lexer": "ipython3",
   "version": "3.8.8"
  }
 },
 "nbformat": 4,
 "nbformat_minor": 5
}
