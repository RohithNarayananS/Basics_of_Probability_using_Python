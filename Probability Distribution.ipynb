{
 "cells": [
  {
   "cell_type": "markdown",
   "id": "4e0c176c",
   "metadata": {},
   "source": [
    "# Binomial Dist.\n",
    "## Problem Statement\n",
    "##### A bank issues credit cards to its customers under the scheme of Master card. Based on the past data, it is known that 60% of the cusatomers pay the bill on time. If a sample of 10 accounts is selected at random from current database, construct the binomial probability distribution of account"
   ]
  },
  {
   "cell_type": "code",
   "execution_count": 1,
   "id": "2c1f8def",
   "metadata": {},
   "outputs": [],
   "source": [
    "import numpy as np\n",
    "import scipy.stats as stats\n",
    "import matplotlib.pyplot as plt"
   ]
  },
  {
   "cell_type": "code",
   "execution_count": 2,
   "id": "ff9ad752",
   "metadata": {},
   "outputs": [],
   "source": [
    "n=10\n",
    "p=0.6"
   ]
  },
  {
   "cell_type": "code",
   "execution_count": 3,
   "id": "8179f127",
   "metadata": {},
   "outputs": [
    {
     "data": {
      "text/plain": [
       "array([ 0,  1,  2,  3,  4,  5,  6,  7,  8,  9, 10])"
      ]
     },
     "execution_count": 3,
     "metadata": {},
     "output_type": "execute_result"
    }
   ],
   "source": [
    "k=np.arange(0,11)\n",
    "k"
   ]
  },
  {
   "cell_type": "code",
   "execution_count": 4,
   "id": "577452f9",
   "metadata": {},
   "outputs": [],
   "source": [
    "binomial=stats.binom.pmf(k,n,p)"
   ]
  },
  {
   "cell_type": "code",
   "execution_count": 5,
   "id": "d07fb18a",
   "metadata": {},
   "outputs": [
    {
     "data": {
      "text/plain": [
       "array([1.04857600e-04, 1.57286400e-03, 1.06168320e-02, 4.24673280e-02,\n",
       "       1.11476736e-01, 2.00658125e-01, 2.50822656e-01, 2.14990848e-01,\n",
       "       1.20932352e-01, 4.03107840e-02, 6.04661760e-03])"
      ]
     },
     "execution_count": 5,
     "metadata": {},
     "output_type": "execute_result"
    }
   ],
   "source": [
    "binomial"
   ]
  },
  {
   "cell_type": "code",
   "execution_count": 6,
   "id": "80359e1d",
   "metadata": {},
   "outputs": [
    {
     "data": {
      "text/plain": [
       "[<matplotlib.lines.Line2D at 0x29fbb887eb0>]"
      ]
     },
     "execution_count": 6,
     "metadata": {},
     "output_type": "execute_result"
    },
    {
     "data": {
      "image/png": "[encoded data removed]",
      "text/plain": [
       "<Figure size 432x288 with 1 Axes>"
      ]
     },
     "metadata": {
      "needs_background": "light"
     },
     "output_type": "display_data"
    }
   ],
   "source": [
    "plt.plot(binomial)"
   ]
  },
  {
   "cell_type": "markdown",
   "id": "2030903e",
   "metadata": {},
   "source": [
    "# Poisson Dist.\n",
    "## Problem Statement\n",
    "#####  Given that a bank has a footfall of 6 people per minute, find out the\n",
    "##### a)Probability distribution for upto 20 people per minute\n",
    "##### b)Probability of at least 4 people per minute"
   ]
  },
  {
   "cell_type": "code",
   "execution_count": 7,
   "id": "af38025f",
   "metadata": {},
   "outputs": [],
   "source": [
    "import numpy as np\n",
    "import scipy.stats as stats\n",
    "import matplotlib.pyplot as plt"
   ]
  },
  {
   "cell_type": "code",
   "execution_count": 8,
   "id": "58c5a876",
   "metadata": {},
   "outputs": [],
   "source": [
    "lamda=rate=6"
   ]
  },
  {
   "cell_type": "code",
   "execution_count": 9,
   "id": "47ec1c02",
   "metadata": {},
   "outputs": [],
   "source": [
    "#a)\n",
    "x=np.arange(0,21)"
   ]
  },
  {
   "cell_type": "code",
   "execution_count": 10,
   "id": "d391ca8d",
   "metadata": {},
   "outputs": [],
   "source": [
    "poisson=stats.poisson.pmf(x,rate)"
   ]
  },
  {
   "cell_type": "code",
   "execution_count": 11,
   "id": "539827e5",
   "metadata": {},
   "outputs": [
    {
     "data": {
      "text/plain": [
       "array([2.47875218e-03, 1.48725131e-02, 4.46175392e-02, 8.92350784e-02,\n",
       "       1.33852618e-01, 1.60623141e-01, 1.60623141e-01, 1.37676978e-01,\n",
       "       1.03257734e-01, 6.88384890e-02, 4.13030934e-02, 2.25289600e-02,\n",
       "       1.12644800e-02, 5.19899078e-03, 2.22813891e-03, 8.91255562e-04,\n",
       "       3.34220836e-04, 1.17960295e-04, 3.93200983e-05, 1.24168732e-05,\n",
       "       3.72506195e-06])"
      ]
     },
     "execution_count": 11,
     "metadata": {},
     "output_type": "execute_result"
    }
   ],
   "source": [
    "poisson"
   ]
  },
  {
   "cell_type": "code",
   "execution_count": 12,
   "id": "0df3d0e2",
   "metadata": {},
   "outputs": [
    {
     "data": {
      "text/plain": [
       "[<matplotlib.lines.Line2D at 0x29fbc006760>]"
      ]
     },
     "execution_count": 12,
     "metadata": {},
     "output_type": "execute_result"
    },
    {
     "data": {
      "image/png": "[encoded data removed]",
      "text/plain": [
       "<Figure size 432x288 with 1 Axes>"
      ]
     },
     "metadata": {
      "needs_background": "light"
     },
     "output_type": "display_data"
    }
   ],
   "source": [
    "plt.plot(poisson)"
   ]
  },
  {
   "cell_type": "code",
   "execution_count": 13,
   "id": "89342edf",
   "metadata": {},
   "outputs": [],
   "source": [
    "#b)\n",
    "y=np.arange(0,7)"
   ]
  },
  {
   "cell_type": "code",
   "execution_count": 14,
   "id": "f2716799",
   "metadata": {},
   "outputs": [],
   "source": [
    "poisson2=stats.poisson.pmf(y,lamda)"
   ]
  },
  {
   "cell_type": "code",
   "execution_count": 15,
   "id": "583af663",
   "metadata": {},
   "outputs": [
    {
     "data": {
      "text/plain": [
       "array([0.00247875, 0.01487251, 0.04461754, 0.08923508, 0.13385262,\n",
       "       0.16062314, 0.16062314])"
      ]
     },
     "execution_count": 15,
     "metadata": {},
     "output_type": "execute_result"
    }
   ],
   "source": [
    "poisson2"
   ]
  },
  {
   "cell_type": "code",
   "execution_count": 16,
   "id": "c7777567",
   "metadata": {},
   "outputs": [
    {
     "data": {
      "text/plain": [
       "[<matplotlib.lines.Line2D at 0x29fbc075850>]"
      ]
     },
     "execution_count": 16,
     "metadata": {},
     "output_type": "execute_result"
    },
    {
     "data": {
      "image/png": "[encoded data removed]",
      "text/plain": [
       "<Figure size 432x288 with 1 Axes>"
      ]
     },
     "metadata": {
      "needs_background": "light"
     },
     "output_type": "display_data"
    }
   ],
   "source": [
    "plt.plot(poisson2)"
   ]
  },
  {
   "cell_type": "code",
   "execution_count": 17,
   "id": "cd4384b5",
   "metadata": {},
   "outputs": [
    {
     "data": {
      "text/plain": [
       "0.8487961172233521"
      ]
     },
     "execution_count": 17,
     "metadata": {},
     "output_type": "execute_result"
    }
   ],
   "source": [
    "1-poisson2[0]-poisson2[1]-poisson2[2]-poisson2[3]"
   ]
  },
  {
   "cell_type": "markdown",
   "id": "c7032e03",
   "metadata": {},
   "source": [
    "##### same value as of mam's because for even 100 times the curve will be the same"
   ]
  },
  {
   "cell_type": "markdown",
   "id": "92ce84ca",
   "metadata": {},
   "source": [
    "# Normal Dist.\n",
    "## Problem Statement\n",
    "##### the mean weight of a morning basket cereal pack is 0.295kg with a standard deviation of 0.025kg. the random variable weight of the pack follows a normal distribution.\n",
    "##### a)What is the probability that the pack weighs less than 0.280kg?\n",
    "##### b)What is the probability that the pack weighs more than 0.350kg?\n",
    "##### c)What is the probability that the pack weighs between 0.260kg to 0.380kg?"
   ]
  },
  {
   "cell_type": "code",
   "execution_count": 26,
   "id": "655738a4",
   "metadata": {},
   "outputs": [
    {
     "data": {
      "text/plain": [
       "-0.5999999999999983"
      ]
     },
     "execution_count": 26,
     "metadata": {},
     "output_type": "execute_result"
    }
   ],
   "source": [
    "# to prove this is normal\n",
    "z=(0.280-0.295)/0.025\n",
    "z"
   ]
  },
  {
   "cell_type": "code",
   "execution_count": 27,
   "id": "2701fe9b",
   "metadata": {},
   "outputs": [
    {
     "data": {
      "text/plain": [
       "0.2742531177500741"
      ]
     },
     "execution_count": 27,
     "metadata": {},
     "output_type": "execute_result"
    }
   ],
   "source": [
    "#a) \n",
    "stats.norm.cdf(0.280,loc=0.295,scale=0.025)"
   ]
  },
  {
   "cell_type": "code",
   "execution_count": 28,
   "id": "ddda11de",
   "metadata": {},
   "outputs": [
    {
     "data": {
      "text/plain": [
       "0.01390344751349859"
      ]
     },
     "execution_count": 28,
     "metadata": {},
     "output_type": "execute_result"
    }
   ],
   "source": [
    "#b) \n",
    "1- stats.norm.cdf(0.350,loc=0.295,scale=0.025)"
   ]
  },
  {
   "cell_type": "code",
   "execution_count": 29,
   "id": "a5db132b",
   "metadata": {},
   "outputs": [
    {
     "data": {
      "text/plain": [
       "0.918906411500552"
      ]
     },
     "execution_count": 29,
     "metadata": {},
     "output_type": "execute_result"
    }
   ],
   "source": [
    "#c)\n",
    "stats.norm.cdf(0.380,loc=0.295,scale=0.025)-stats.norm.cdf(0.260,loc=0.295,scale=0.025)"
   ]
  }
 ],
 "metadata": {
  "kernelspec": {
   "display_name": "Python 3 (ipykernel)",
   "language": "python",
   "name": "python3"
  },
  "language_info": {
   "codemirror_mode": {
    "name": "ipython",
    "version": 3
   },
   "file_extension": ".py",
   "mimetype": "text/x-python",
   "name": "python",
   "nbconvert_exporter": "python",
   "pygments_lexer": "ipython3",
   "version": "3.9.7"
  }
 },
 "nbformat": 4,
 "nbformat_minor": 5
}
